{
 "cells": [
  {
   "cell_type": "markdown",
   "id": "99d141e9",
   "metadata": {},
   "source": [
    "Creating a spark session"
   ]
  },
  {
   "cell_type": "code",
   "execution_count": 1,
   "id": "28795e17",
   "metadata": {},
   "outputs": [],
   "source": [
    "from pyspark.sql import SparkSession"
   ]
  },
  {
   "cell_type": "markdown",
   "id": "a1eb602d",
   "metadata": {},
   "source": [
    "Start a spark Session"
   ]
  },
  {
   "cell_type": "code",
   "execution_count": 2,
   "id": "f675a49f",
   "metadata": {},
   "outputs": [],
   "source": [
    "spark = SparkSession.builder.appName('Basics').getOrCreate()"
   ]
  },
  {
   "cell_type": "markdown",
   "id": "80969aa2",
   "metadata": {},
   "source": [
    "Load data to be used"
   ]
  },
  {
   "cell_type": "code",
   "execution_count": 3,
   "id": "36f0179a",
   "metadata": {},
   "outputs": [],
   "source": [
    "df = spark.read.json('C:\\Continuous Education\\IMPORTANT LEARNING - Apache Spark\\Spark_DataFrames\\people.json')"
   ]
  },
  {
   "cell_type": "markdown",
   "id": "875d2bc1",
   "metadata": {},
   "source": [
    "Display the data"
   ]
  },
  {
   "cell_type": "code",
   "execution_count": 4,
   "id": "59dc24e9",
   "metadata": {},
   "outputs": [
    {
     "name": "stdout",
     "output_type": "stream",
     "text": [
      "+----+-------+\n",
      "| age|   name|\n",
      "+----+-------+\n",
      "|null|Michael|\n",
      "|  30|   Andy|\n",
      "|  19| Justin|\n",
      "+----+-------+\n",
      "\n"
     ]
    }
   ],
   "source": [
    "df.show()"
   ]
  },
  {
   "cell_type": "markdown",
   "id": "b9880c1a",
   "metadata": {},
   "source": [
    "Check the data schema"
   ]
  },
  {
   "cell_type": "code",
   "execution_count": 5,
   "id": "ad1472fe",
   "metadata": {},
   "outputs": [
    {
     "name": "stdout",
     "output_type": "stream",
     "text": [
      "root\n",
      " |-- age: long (nullable = true)\n",
      " |-- name: string (nullable = true)\n",
      "\n"
     ]
    }
   ],
   "source": [
    "df.printSchema()"
   ]
  },
  {
   "cell_type": "markdown",
   "id": "9b69f136",
   "metadata": {},
   "source": [
    "Display the column of the dataframe"
   ]
  },
  {
   "cell_type": "code",
   "execution_count": 6,
   "id": "c9a432fd",
   "metadata": {},
   "outputs": [
    {
     "data": {
      "text/plain": [
       "['age', 'name']"
      ]
     },
     "execution_count": 6,
     "metadata": {},
     "output_type": "execute_result"
    }
   ],
   "source": [
    "df.columns"
   ]
  },
  {
   "cell_type": "markdown",
   "id": "ced2270a",
   "metadata": {},
   "source": [
    "Discribe the dataframe as an object"
   ]
  },
  {
   "cell_type": "code",
   "execution_count": 7,
   "id": "61db950d",
   "metadata": {},
   "outputs": [
    {
     "data": {
      "text/plain": [
       "DataFrame[summary: string, age: string, name: string]"
      ]
     },
     "execution_count": 7,
     "metadata": {},
     "output_type": "execute_result"
    }
   ],
   "source": [
    "df.describe()"
   ]
  },
  {
   "cell_type": "markdown",
   "id": "b6463c50",
   "metadata": {},
   "source": [
    "Display the data for the describe"
   ]
  },
  {
   "cell_type": "code",
   "execution_count": 8,
   "id": "70b53274",
   "metadata": {},
   "outputs": [
    {
     "name": "stdout",
     "output_type": "stream",
     "text": [
      "+-------+------------------+-------+\n",
      "|summary|               age|   name|\n",
      "+-------+------------------+-------+\n",
      "|  count|                 2|      3|\n",
      "|   mean|              24.5|   null|\n",
      "| stddev|7.7781745930520225|   null|\n",
      "|    min|                19|   Andy|\n",
      "|    max|                30|Michael|\n",
      "+-------+------------------+-------+\n",
      "\n"
     ]
    }
   ],
   "source": [
    "df.describe().show()"
   ]
  },
  {
   "cell_type": "markdown",
   "id": "8f832f3d",
   "metadata": {},
   "source": [
    "Getting data from a dataframe as an object"
   ]
  },
  {
   "cell_type": "code",
   "execution_count": 10,
   "id": "b15806fc",
   "metadata": {},
   "outputs": [
    {
     "data": {
      "text/plain": [
       "Column<'age'>"
      ]
     },
     "execution_count": 10,
     "metadata": {},
     "output_type": "execute_result"
    }
   ],
   "source": [
    "df['age']"
   ]
  },
  {
   "cell_type": "markdown",
   "id": "8cae7c75",
   "metadata": {},
   "source": [
    "Getting data from a dataframe and displaying it"
   ]
  },
  {
   "cell_type": "code",
   "execution_count": 13,
   "id": "e02e91a0",
   "metadata": {},
   "outputs": [
    {
     "name": "stdout",
     "output_type": "stream",
     "text": [
      "+----+\n",
      "| age|\n",
      "+----+\n",
      "|null|\n",
      "|  30|\n",
      "|  19|\n",
      "+----+\n",
      "\n"
     ]
    }
   ],
   "source": [
    "df.select('age').show()"
   ]
  },
  {
   "cell_type": "markdown",
   "id": "c4ac7609",
   "metadata": {},
   "source": [
    "Returns rows from a dataframe"
   ]
  },
  {
   "cell_type": "code",
   "execution_count": 19,
   "id": "4626c199",
   "metadata": {},
   "outputs": [
    {
     "data": {
      "text/plain": [
       "[Row(age=None, name='Michael'), Row(age=30, name='Andy')]"
      ]
     },
     "execution_count": 19,
     "metadata": {},
     "output_type": "execute_result"
    }
   ],
   "source": [
    "df.head(2)"
   ]
  },
  {
   "cell_type": "markdown",
   "id": "109f0116",
   "metadata": {},
   "source": [
    "Return multple colums"
   ]
  },
  {
   "cell_type": "code",
   "execution_count": 21,
   "id": "a6cbf70e",
   "metadata": {},
   "outputs": [
    {
     "name": "stdout",
     "output_type": "stream",
     "text": [
      "+----+-------+\n",
      "| age|   name|\n",
      "+----+-------+\n",
      "|null|Michael|\n",
      "|  30|   Andy|\n",
      "|  19| Justin|\n",
      "+----+-------+\n",
      "\n"
     ]
    }
   ],
   "source": [
    "df.select(['age', 'name']).show()"
   ]
  },
  {
   "cell_type": "markdown",
   "id": "f827bfb7",
   "metadata": {},
   "source": [
    "Creatinga new column in a dataframe"
   ]
  },
  {
   "cell_type": "code",
   "execution_count": 22,
   "id": "11a7cb62",
   "metadata": {},
   "outputs": [
    {
     "name": "stdout",
     "output_type": "stream",
     "text": [
      "+----+-------+------+\n",
      "| age|   name|NewAge|\n",
      "+----+-------+------+\n",
      "|null|Michael|  null|\n",
      "|  30|   Andy|    30|\n",
      "|  19| Justin|    19|\n",
      "+----+-------+------+\n",
      "\n"
     ]
    }
   ],
   "source": [
    "# Syntas = withColumn('NewColumnName','Data for the column')\n",
    "df.withColumn('NewAge',df['age']).show()"
   ]
  },
  {
   "cell_type": "code",
   "execution_count": 23,
   "id": "479efc72",
   "metadata": {},
   "outputs": [
    {
     "name": "stdout",
     "output_type": "stream",
     "text": [
      "+----+-------+-----------+\n",
      "| age|   name|NewAgeDuble|\n",
      "+----+-------+-----------+\n",
      "|null|Michael|       null|\n",
      "|  30|   Andy|         60|\n",
      "|  19| Justin|         38|\n",
      "+----+-------+-----------+\n",
      "\n"
     ]
    }
   ],
   "source": [
    "# Syntas = withColumn('NewColumnName','Data for the column')\n",
    "df.withColumn('NewAgeDuble',df['age']*2).show()"
   ]
  },
  {
   "cell_type": "markdown",
   "id": "6a417e3c",
   "metadata": {},
   "source": [
    "Rename Column"
   ]
  },
  {
   "cell_type": "code",
   "execution_count": 25,
   "id": "1818b8ac",
   "metadata": {},
   "outputs": [
    {
     "name": "stdout",
     "output_type": "stream",
     "text": [
      "+----------+-------+\n",
      "|CurrentAge|   name|\n",
      "+----------+-------+\n",
      "|      null|Michael|\n",
      "|        30|   Andy|\n",
      "|        19| Justin|\n",
      "+----------+-------+\n",
      "\n"
     ]
    }
   ],
   "source": [
    "# Syntas = withColumnRename('OldColumnName','NewColumnName')\n",
    "df.withColumnRenamed('age','CurrentAge').show()"
   ]
  },
  {
   "cell_type": "markdown",
   "id": "a3b5d722",
   "metadata": {},
   "source": [
    "Using SQL in Spark"
   ]
  },
  {
   "cell_type": "code",
   "execution_count": 27,
   "id": "4f731f2d",
   "metadata": {},
   "outputs": [],
   "source": [
    "# Create the dataframe as a view\n",
    "df.createOrReplaceTempView('people')"
   ]
  },
  {
   "cell_type": "code",
   "execution_count": 30,
   "id": "8a0adb95",
   "metadata": {},
   "outputs": [
    {
     "name": "stdout",
     "output_type": "stream",
     "text": [
      "+----+-------+\n",
      "| age|   name|\n",
      "+----+-------+\n",
      "|null|Michael|\n",
      "|  30|   Andy|\n",
      "|  19| Justin|\n",
      "+----+-------+\n",
      "\n"
     ]
    }
   ],
   "source": [
    "query = 'SELECT * FROM people'\n",
    "sql_result = spark.sql(query)\n",
    "sql_result.show()"
   ]
  },
  {
   "cell_type": "code",
   "execution_count": 31,
   "id": "24f642ba",
   "metadata": {},
   "outputs": [
    {
     "name": "stdout",
     "output_type": "stream",
     "text": [
      "+---+------+\n",
      "|age|  name|\n",
      "+---+------+\n",
      "| 19|Justin|\n",
      "+---+------+\n",
      "\n"
     ]
    }
   ],
   "source": [
    "query = 'SELECT * FROM people where age = 19'\n",
    "sql_result = spark.sql(query)\n",
    "sql_result.show()"
   ]
  },
  {
   "cell_type": "code",
   "execution_count": 34,
   "id": "95afa98f",
   "metadata": {},
   "outputs": [
    {
     "name": "stdout",
     "output_type": "stream",
     "text": [
      "+----+-------+\n",
      "| age|   name|\n",
      "+----+-------+\n",
      "|null|Michael|\n",
      "|  19| Justin|\n",
      "|  30|   Andy|\n",
      "+----+-------+\n",
      "\n"
     ]
    }
   ],
   "source": [
    "query = 'SELECT * FROM people ORDER BY age'\n",
    "sql_result = spark.sql(query)\n",
    "sql_result.show()"
   ]
  },
  {
   "cell_type": "code",
   "execution_count": null,
   "id": "2261063d",
   "metadata": {},
   "outputs": [],
   "source": []
  }
 ],
 "metadata": {
  "kernelspec": {
   "display_name": "Python 3 (ipykernel)",
   "language": "python",
   "name": "python3"
  },
  "language_info": {
   "codemirror_mode": {
    "name": "ipython",
    "version": 3
   },
   "file_extension": ".py",
   "mimetype": "text/x-python",
   "name": "python",
   "nbconvert_exporter": "python",
   "pygments_lexer": "ipython3",
   "version": "3.9.13"
  },
  "toc": {
   "base_numbering": 1,
   "nav_menu": {},
   "number_sections": true,
   "sideBar": true,
   "skip_h1_title": false,
   "title_cell": "Table of Contents",
   "title_sidebar": "Contents",
   "toc_cell": false,
   "toc_position": {},
   "toc_section_display": true,
   "toc_window_display": false
  }
 },
 "nbformat": 4,
 "nbformat_minor": 5
}
